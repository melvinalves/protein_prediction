{
 "cells": [
  {
   "cell_type": "code",
   "execution_count": 3,
   "id": "39935741-50be-4766-873c-99f3c3f14e55",
   "metadata": {},
   "outputs": [
    {
     "name": "stdout",
     "output_type": "stream",
     "text": [
      "A converter modelos .keras para .h5...\n",
      "\n",
      "WARNING:tensorflow:Compiled the loaded model, but the compiled metrics have yet to be built. `model.compile_metrics` will be empty until you train or evaluate the model.\n",
      "Guardado com sucesso\n",
      "\n",
      "WARNING:tensorflow:Compiled the loaded model, but the compiled metrics have yet to be built. `model.compile_metrics` will be empty until you train or evaluate the model.\n",
      "Guardado com sucesso\n",
      "\n",
      "WARNING:tensorflow:Compiled the loaded model, but the compiled metrics have yet to be built. `model.compile_metrics` will be empty until you train or evaluate the model.\n",
      "Guardado com sucesso\n",
      "\n",
      "WARNING:tensorflow:Compiled the loaded model, but the compiled metrics have yet to be built. `model.compile_metrics` will be empty until you train or evaluate the model.\n",
      "Guardado com sucesso\n",
      "\n",
      "Conversão concluída.\n"
     ]
    }
   ],
   "source": [
    "import os\n",
    "from tensorflow.keras.models import load_model\n",
    "\n",
    "MODELS_DIR = \"models\"\n",
    "\n",
    "# Modelos a converter: (nome original .keras → novo nome .h5)\n",
    "modelos = [\n",
    "    (\"protbert_mlp.keras\",       \"mlp_protbert.h5\"),\n",
    "    (\"protbertbfd_mlp.keras\",    \"mlp_protbertbfd.h5\"),\n",
    "    (\"esm2_mlp.keras\",           \"mlp_esm2.h5\"),\n",
    "    (\"modelo_ensemble_stacking.keras\", \"modelo_ensemble_stack.h5\"),\n",
    "]\n",
    "\n",
    "print(\"A converter modelos .keras para .h5...\\n\")\n",
    "\n",
    "for origem, destino in modelos:\n",
    "    origem_path = os.path.join(MODELS_DIR, origem)\n",
    "    destino_path = os.path.join(MODELS_DIR, destino)\n",
    "\n",
    "    if not os.path.exists(origem_path):\n",
    "        print(f\"Ficheiro não encontrado: {origem_path}\")\n",
    "        continue\n",
    "\n",
    "\n",
    "    model = load_model(origem_path, compile=False)\n",
    "    model.save(destino_path)\n",
    "\n",
    "    print(\"Guardado com sucesso\\n\")\n",
    "\n",
    "print(\"Conversão concluída.\")\n"
   ]
  },
  {
   "cell_type": "code",
   "execution_count": null,
   "id": "c0f2a4b7-d3eb-48a7-b97e-213b58b2b2ca",
   "metadata": {},
   "outputs": [],
   "source": []
  }
 ],
 "metadata": {
  "kernelspec": {
   "display_name": "Python 3 (ipykernel)",
   "language": "python",
   "name": "python3"
  },
  "language_info": {
   "codemirror_mode": {
    "name": "ipython",
    "version": 3
   },
   "file_extension": ".py",
   "mimetype": "text/x-python",
   "name": "python",
   "nbconvert_exporter": "python",
   "pygments_lexer": "ipython3",
   "version": "3.8.18"
  }
 },
 "nbformat": 4,
 "nbformat_minor": 5
}
